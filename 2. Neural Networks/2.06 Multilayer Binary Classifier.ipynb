{
 "cells": [
  {
   "cell_type": "code",
   "execution_count": 1,
   "metadata": {},
   "outputs": [
    {
     "name": "stdout",
     "output_type": "stream",
     "text": [
      "    label      x1      x2\n",
      "0       1  2.6487  4.5192\n",
      "1       1  1.5438  2.4443\n",
      "2       1  1.8990  4.2409\n",
      "3       1  2.4711  5.8097\n",
      "4       1  3.3590  6.4423\n",
      "5       1  3.2406  5.8097\n",
      "6       1  3.8128  6.3917\n",
      "7       1  4.4441  6.8725\n",
      "8       1  3.6747  6.7966\n",
      "9       0  7.5417  4.0891\n",
      "10      0  7.2063  2.3937\n",
      "11      0  6.5355  1.3310\n",
      "12      0  5.4503  1.7358\n",
      "13      0  5.8449  2.4443\n",
      "14      0  4.8979  3.1781\n",
      "15      0  5.8055  4.6711\n",
      "16      0  7.3641  5.9868\n",
      "17      0  6.2592  4.6711\n",
      "18      0  8.3703  7.5810\n",
      "19      0  8.5676  4.6457\n",
      "20      0  8.1676  4.6457\n"
     ]
    }
   ],
   "source": [
    "import pandas as pd\n",
    "data_url = 'https://raw.githubusercontent.com/PacktWorkshops/The-Deep-Learning-Workshop/master/Chapter02/Datasets/data.csv'\n",
    "df = pd.read_csv(data_url)\n",
    "print(df)"
   ]
  },
  {
   "cell_type": "code",
   "execution_count": 4,
   "metadata": {},
   "outputs": [
    {
     "data": {
      "text/plain": [
       "<matplotlib.collections.PathCollection at 0x14bea4c8310>"
      ]
     },
     "execution_count": 4,
     "metadata": {},
     "output_type": "execute_result"
    },
    {
     "data": {
      "image/png": "[encoded data removed]",
      "text/plain": [
       "<Figure size 432x288 with 1 Axes>"
      ]
     },
     "metadata": {
      "needs_background": "light"
     },
     "output_type": "display_data"
    }
   ],
   "source": [
    "import matplotlib.pyplot as plt\n",
    "\n",
    "plt.scatter(df[df['label'] == 0]['x1'],\n",
    "           df[df['label'] == 0]['x2'], marker='*')\n",
    "plt.scatter(df[df['label'] == 1]['x1'],\n",
    "           df[df['label'] == 1]['x2'], marker='<')"
   ]
  },
  {
   "cell_type": "code",
   "execution_count": 7,
   "metadata": {},
   "outputs": [],
   "source": [
    "import tensorflow as tf\n",
    "x_input = df[['x1', 'x2']].values\n",
    "y_label = df[['label']].values"
   ]
  },
  {
   "cell_type": "code",
   "execution_count": 8,
   "metadata": {},
   "outputs": [],
   "source": [
    "from tensorflow.keras.models import Sequential\n",
    "from tensorflow.keras.layers import Dense\n",
    "\n",
    "model = Sequential()\n",
    "model.add(Dense(units=50, input_dim=2, activation='relu'))\n",
    "model.add(Dense(units=20, activation='relu'))\n",
    "model.add(Dense(units=1, input_dim=2, activation='sigmoid'))"
   ]
  },
  {
   "cell_type": "code",
   "execution_count": 9,
   "metadata": {},
   "outputs": [],
   "source": [
    "model.compile(optimizer='adam', loss='binary_crossentropy', metrics=['accuracy'])"
   ]
  },
  {
   "cell_type": "code",
   "execution_count": 10,
   "metadata": {},
   "outputs": [
    {
     "name": "stdout",
     "output_type": "stream",
     "text": [
      "Model: \"sequential\"\n",
      "_________________________________________________________________\n",
      "Layer (type)                 Output Shape              Param #   \n",
      "=================================================================\n",
      "dense (Dense)                (None, 50)                150       \n",
      "_________________________________________________________________\n",
      "dense_1 (Dense)              (None, 20)                1020      \n",
      "_________________________________________________________________\n",
      "dense_2 (Dense)              (None, 1)                 21        \n",
      "=================================================================\n",
      "Total params: 1,191\n",
      "Trainable params: 1,191\n",
      "Non-trainable params: 0\n",
      "_________________________________________________________________\n"
     ]
    }
   ],
   "source": [
    "model.summary()"
   ]
  },
  {
   "cell_type": "code",
   "execution_count": 11,
   "metadata": {},
   "outputs": [
    {
     "name": "stdout",
     "output_type": "stream",
     "text": [
      "Epoch 1/50\n",
      "1/1 [==============================] - 2s 2s/step - loss: 0.8407 - accuracy: 0.5714\n",
      "Epoch 2/50\n",
      "1/1 [==============================] - 0s 12ms/step - loss: 0.8097 - accuracy: 0.5714\n",
      "Epoch 3/50\n",
      "1/1 [==============================] - 0s 9ms/step - loss: 0.7795 - accuracy: 0.5714\n",
      "Epoch 4/50\n",
      "1/1 [==============================] - 0s 8ms/step - loss: 0.7503 - accuracy: 0.5714\n",
      "Epoch 5/50\n",
      "1/1 [==============================] - 0s 11ms/step - loss: 0.7227 - accuracy: 0.5714\n",
      "Epoch 6/50\n",
      "1/1 [==============================] - 0s 12ms/step - loss: 0.6959 - accuracy: 0.5714\n",
      "Epoch 7/50\n",
      "1/1 [==============================] - 0s 10ms/step - loss: 0.6702 - accuracy: 0.5714\n",
      "Epoch 8/50\n",
      "1/1 [==============================] - 0s 13ms/step - loss: 0.6454 - accuracy: 0.5714\n",
      "Epoch 9/50\n",
      "1/1 [==============================] - 0s 10ms/step - loss: 0.6211 - accuracy: 0.5714\n",
      "Epoch 10/50\n",
      "1/1 [==============================] - 0s 10ms/step - loss: 0.5976 - accuracy: 0.5714\n",
      "Epoch 11/50\n",
      "1/1 [==============================] - 0s 11ms/step - loss: 0.5754 - accuracy: 0.5714\n",
      "Epoch 12/50\n",
      "1/1 [==============================] - 0s 10ms/step - loss: 0.5552 - accuracy: 0.5714\n",
      "Epoch 13/50\n",
      "1/1 [==============================] - 0s 11ms/step - loss: 0.5355 - accuracy: 0.5714\n",
      "Epoch 14/50\n",
      "1/1 [==============================] - 0s 11ms/step - loss: 0.5161 - accuracy: 0.5714\n",
      "Epoch 15/50\n",
      "1/1 [==============================] - 0s 10ms/step - loss: 0.4965 - accuracy: 0.5714\n",
      "Epoch 16/50\n",
      "1/1 [==============================] - 0s 10ms/step - loss: 0.4773 - accuracy: 0.5714\n",
      "Epoch 17/50\n",
      "1/1 [==============================] - 0s 11ms/step - loss: 0.4587 - accuracy: 0.5714\n",
      "Epoch 18/50\n",
      "1/1 [==============================] - 0s 11ms/step - loss: 0.4409 - accuracy: 0.5714\n",
      "Epoch 19/50\n",
      "1/1 [==============================] - 0s 11ms/step - loss: 0.4250 - accuracy: 0.5714\n",
      "Epoch 20/50\n",
      "1/1 [==============================] - 0s 12ms/step - loss: 0.4100 - accuracy: 0.5714\n",
      "Epoch 21/50\n",
      "1/1 [==============================] - 0s 11ms/step - loss: 0.3949 - accuracy: 0.6190\n",
      "Epoch 22/50\n",
      "1/1 [==============================] - 0s 12ms/step - loss: 0.3803 - accuracy: 0.9048\n",
      "Epoch 23/50\n",
      "1/1 [==============================] - 0s 10ms/step - loss: 0.3662 - accuracy: 0.9524\n",
      "Epoch 24/50\n",
      "1/1 [==============================] - 0s 10ms/step - loss: 0.3526 - accuracy: 0.9524\n",
      "Epoch 25/50\n",
      "1/1 [==============================] - 0s 9ms/step - loss: 0.3395 - accuracy: 1.0000\n",
      "Epoch 26/50\n",
      "1/1 [==============================] - 0s 10ms/step - loss: 0.3267 - accuracy: 1.0000\n",
      "Epoch 27/50\n",
      "1/1 [==============================] - 0s 12ms/step - loss: 0.3146 - accuracy: 1.0000\n",
      "Epoch 28/50\n",
      "1/1 [==============================] - 0s 10ms/step - loss: 0.3036 - accuracy: 1.0000\n",
      "Epoch 29/50\n",
      "1/1 [==============================] - 0s 10ms/step - loss: 0.2935 - accuracy: 1.0000\n",
      "Epoch 30/50\n",
      "1/1 [==============================] - 0s 11ms/step - loss: 0.2839 - accuracy: 1.0000\n",
      "Epoch 31/50\n",
      "1/1 [==============================] - 0s 9ms/step - loss: 0.2745 - accuracy: 1.0000\n",
      "Epoch 32/50\n",
      "1/1 [==============================] - 0s 8ms/step - loss: 0.2654 - accuracy: 1.0000\n",
      "Epoch 33/50\n",
      "1/1 [==============================] - 0s 9ms/step - loss: 0.2566 - accuracy: 1.0000\n",
      "Epoch 34/50\n",
      "1/1 [==============================] - 0s 10ms/step - loss: 0.2481 - accuracy: 1.0000\n",
      "Epoch 35/50\n",
      "1/1 [==============================] - 0s 9ms/step - loss: 0.2400 - accuracy: 1.0000\n",
      "Epoch 36/50\n",
      "1/1 [==============================] - 0s 9ms/step - loss: 0.2325 - accuracy: 1.0000\n",
      "Epoch 37/50\n",
      "1/1 [==============================] - 0s 11ms/step - loss: 0.2257 - accuracy: 1.0000\n",
      "Epoch 38/50\n",
      "1/1 [==============================] - 0s 11ms/step - loss: 0.2195 - accuracy: 1.0000\n",
      "Epoch 39/50\n",
      "1/1 [==============================] - 0s 10ms/step - loss: 0.2138 - accuracy: 1.0000\n",
      "Epoch 40/50\n",
      "1/1 [==============================] - 0s 11ms/step - loss: 0.2085 - accuracy: 1.0000\n",
      "Epoch 41/50\n",
      "1/1 [==============================] - 0s 8ms/step - loss: 0.2036 - accuracy: 1.0000\n",
      "Epoch 42/50\n",
      "1/1 [==============================] - 0s 9ms/step - loss: 0.1989 - accuracy: 1.0000\n",
      "Epoch 43/50\n",
      "1/1 [==============================] - 0s 9ms/step - loss: 0.1943 - accuracy: 1.0000\n",
      "Epoch 44/50\n",
      "1/1 [==============================] - 0s 10ms/step - loss: 0.1899 - accuracy: 1.0000\n",
      "Epoch 45/50\n",
      "1/1 [==============================] - 0s 9ms/step - loss: 0.1856 - accuracy: 1.0000\n",
      "Epoch 46/50\n",
      "1/1 [==============================] - 0s 9ms/step - loss: 0.1815 - accuracy: 1.0000\n",
      "Epoch 47/50\n",
      "1/1 [==============================] - 0s 11ms/step - loss: 0.1776 - accuracy: 1.0000\n",
      "Epoch 48/50\n",
      "1/1 [==============================] - 0s 8ms/step - loss: 0.1736 - accuracy: 1.0000\n",
      "Epoch 49/50\n",
      "1/1 [==============================] - 0s 9ms/step - loss: 0.1698 - accuracy: 1.0000\n",
      "Epoch 50/50\n",
      "1/1 [==============================] - 0s 9ms/step - loss: 0.1663 - accuracy: 1.0000\n"
     ]
    },
    {
     "data": {
      "text/plain": [
       "<tensorflow.python.keras.callbacks.History at 0x14bf1b6c970>"
      ]
     },
     "execution_count": 11,
     "metadata": {},
     "output_type": "execute_result"
    }
   ],
   "source": [
    "model.fit(x_input, y_label, epochs=50)"
   ]
  },
  {
   "cell_type": "code",
   "execution_count": 12,
   "metadata": {},
   "outputs": [
    {
     "name": "stdout",
     "output_type": "stream",
     "text": [
      "1/1 [==============================] - 0s 197ms/step - loss: 0.1628 - accuracy: 1.0000\n"
     ]
    },
    {
     "data": {
      "text/plain": [
       "[0.16275376081466675, 1.0]"
      ]
     },
     "execution_count": 12,
     "metadata": {},
     "output_type": "execute_result"
    }
   ],
   "source": [
    "model.evaluate(x_input, y_label)"
   ]
  },
  {
   "cell_type": "code",
   "execution_count": null,
   "metadata": {},
   "outputs": [],
   "source": []
  }
 ],
 "metadata": {
  "kernelspec": {
   "display_name": "Python 3",
   "language": "python",
   "name": "python3"
  },
  "language_info": {
   "codemirror_mode": {
    "name": "ipython",
    "version": 3
   },
   "file_extension": ".py",
   "mimetype": "text/x-python",
   "name": "python",
   "nbconvert_exporter": "python",
   "pygments_lexer": "ipython3",
   "version": "3.8.5"
  }
 },
 "nbformat": 4,
 "nbformat_minor": 4
}
