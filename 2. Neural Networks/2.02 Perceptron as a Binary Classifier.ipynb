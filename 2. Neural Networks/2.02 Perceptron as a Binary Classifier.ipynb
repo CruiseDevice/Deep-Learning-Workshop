{
 "cells": [
  {
   "cell_type": "code",
   "execution_count": 1,
   "metadata": {},
   "outputs": [],
   "source": [
    "import pandas as pd\n",
    "data_url = 'https://raw.githubusercontent.com/PacktWorkshops/The-Deep-Learning-Workshop/master/Chapter02/Datasets/data.csv'\n",
    "df = pd.read_csv(data_url)"
   ]
  },
  {
   "cell_type": "code",
   "execution_count": 2,
   "metadata": {},
   "outputs": [
    {
     "data": {
      "text/plain": [
       "<matplotlib.collections.PathCollection at 0x2aa02a6aaf0>"
      ]
     },
     "execution_count": 2,
     "metadata": {},
     "output_type": "execute_result"
    },
    {
     "data": {
      "image/png": "[encoded data removed]",
      "text/plain": [
       "<Figure size 432x288 with 1 Axes>"
      ]
     },
     "metadata": {
      "needs_background": "light"
     },
     "output_type": "display_data"
    }
   ],
   "source": [
    "import matplotlib.pyplot as plt \n",
    "\n",
    "plt.scatter(df[df['label'] == 0]['x1'],\n",
    "            df[df['label'] == 0]['x2'],\n",
    "           marker='*')\n",
    "plt.scatter(df[df['label'] == 1]['x1'],\n",
    "           df[df['label'] == 1]['x2'],\n",
    "           marker='<')"
   ]
  },
  {
   "cell_type": "code",
   "execution_count": 3,
   "metadata": {},
   "outputs": [],
   "source": [
    "X_input = df[['x1', 'x2']].values\n",
    "y_label = df[['label']].values"
   ]
  },
  {
   "cell_type": "code",
   "execution_count": 4,
   "metadata": {},
   "outputs": [],
   "source": [
    "import tensorflow as tf\n",
    "x = tf.Variable(X_input, dtype=tf.float32)\n",
    "y = tf.Variable(y_label, dtype=tf.float32)"
   ]
  },
  {
   "cell_type": "code",
   "execution_count": 18,
   "metadata": {},
   "outputs": [],
   "source": [
    "Number_of_features = 2\n",
    "Number_of_units = 1\n",
    "learning_rate = 0.01\n",
    "\n",
    "# weights and bias\n",
    "weight = tf.Variable(tf.zeros([Number_of_features, Number_of_units]))  \n",
    "bias = tf.Variable(tf.zeros([Number_of_units]))\n",
    "\n",
    "#optimizer\n",
    "optimizer = tf.optimizers.SGD(learning_rate)\n",
    "\n",
    "def perceptron(x):\n",
    "    z = tf.add(tf.matmul(x, weight), bias)\n",
    "    output = tf.sigmoid(z)\n",
    "    return output\n",
    "\n",
    "def train(n):\n",
    "    for i in range(n):\n",
    "        loss = lambda:abs(\n",
    "            tf.reduce_mean(\n",
    "                tf.nn.sigmoid_cross_entropy_with_logits(\n",
    "                    labels=y, logits=perceptron(x)\n",
    "                )\n",
    "            )\n",
    "        )\n",
    "        optimizer.minimize(loss, [weight, bias])\n",
    "\n",
    "# train the perceptron\n",
    "train(1000)"
   ]
  },
  {
   "cell_type": "code",
   "execution_count": 19,
   "metadata": {},
   "outputs": [
    {
     "name": "stdout",
     "output_type": "stream",
     "text": [
      "[[-0.844034135]\n",
      " [0.673354745]] [0.0593948]\r\n"
     ]
    }
   ],
   "source": [
    "tf.print(weight, bias)"
   ]
  },
  {
   "cell_type": "code",
   "execution_count": 20,
   "metadata": {},
   "outputs": [
    {
     "name": "stdout",
     "output_type": "stream",
     "text": [
      "tf.Tensor(\n",
      "[[0.7040849 ]\n",
      " [0.5992295 ]\n",
      " [0.78788173]\n",
      " [0.8682634 ]\n",
      " [0.82667416]\n",
      " [0.77490306]\n",
      " [0.75862265]\n",
      " [0.7183017 ]\n",
      " [0.8226412 ]\n",
      " [0.02785094]\n",
      " [0.01199546]\n",
      " [0.01034805]\n",
      " [0.03318095]\n",
      " [0.03812481]\n",
      " [0.12624106]\n",
      " [0.15507515]\n",
      " [0.10669854]\n",
      " [0.11122626]\n",
      " [0.13002671]\n",
      " [0.01722958]\n",
      " [0.02398301]], shape=(21, 1), dtype=float32)\n"
     ]
    }
   ],
   "source": [
    "ypred = perceptron(x)\n",
    "print(ypred)"
   ]
  },
  {
   "cell_type": "code",
   "execution_count": 21,
   "metadata": {},
   "outputs": [
    {
     "name": "stdout",
     "output_type": "stream",
     "text": [
      "tf.Tensor(\n",
      "[[1.]\n",
      " [1.]\n",
      " [1.]\n",
      " [1.]\n",
      " [1.]\n",
      " [1.]\n",
      " [1.]\n",
      " [1.]\n",
      " [1.]\n",
      " [0.]\n",
      " [0.]\n",
      " [0.]\n",
      " [0.]\n",
      " [0.]\n",
      " [0.]\n",
      " [0.]\n",
      " [0.]\n",
      " [0.]\n",
      " [0.]\n",
      " [0.]\n",
      " [0.]], shape=(21, 1), dtype=float32)\n"
     ]
    }
   ],
   "source": [
    "ypred = tf.round(ypred)\n",
    "print(ypred)"
   ]
  },
  {
   "cell_type": "code",
   "execution_count": 22,
   "metadata": {},
   "outputs": [],
   "source": [
    "from sklearn.metrics import confusion_matrix\n",
    "from sklearn.metrics import accuracy_score"
   ]
  },
  {
   "cell_type": "code",
   "execution_count": 23,
   "metadata": {},
   "outputs": [
    {
     "name": "stdout",
     "output_type": "stream",
     "text": [
      "1.0\n"
     ]
    }
   ],
   "source": [
    "acc = accuracy_score(y.numpy(), ypred.numpy())\n",
    "print(acc)"
   ]
  },
  {
   "cell_type": "code",
   "execution_count": 24,
   "metadata": {},
   "outputs": [
    {
     "name": "stdout",
     "output_type": "stream",
     "text": [
      "    label      x1      x2\n",
      "0       1  2.6487  4.5192\n",
      "1       1  1.5438  2.4443\n",
      "2       1  1.8990  4.2409\n",
      "3       1  2.4711  5.8097\n",
      "4       1  3.3590  6.4423\n",
      "5       1  3.2406  5.8097\n",
      "6       1  3.8128  6.3917\n",
      "7       1  4.4441  6.8725\n",
      "8       1  3.6747  6.7966\n",
      "9       0  7.5417  4.0891\n",
      "10      0  7.2063  2.3937\n",
      "11      0  6.5355  1.3310\n",
      "12      0  5.4503  1.7358\n",
      "13      0  5.8449  2.4443\n",
      "14      0  4.8979  3.1781\n",
      "15      0  5.8055  4.6711\n",
      "16      0  7.3641  5.9868\n",
      "17      0  6.2592  4.6711\n",
      "18      0  8.3703  7.5810\n",
      "19      0  8.5676  4.6457\n",
      "20      0  8.1676  4.6457\n"
     ]
    }
   ],
   "source": [
    "print(df)"
   ]
  },
  {
   "cell_type": "code",
   "execution_count": 26,
   "metadata": {},
   "outputs": [
    {
     "name": "stdout",
     "output_type": "stream",
     "text": [
      "[[12  0]\n",
      " [ 0  9]]\n"
     ]
    }
   ],
   "source": [
    "cnf_matrix = confusion_matrix(y.numpy(), ypred.numpy())\n",
    "print(cnf_matrix)"
   ]
  },
  {
   "cell_type": "code",
   "execution_count": null,
   "metadata": {},
   "outputs": [],
   "source": []
  }
 ],
 "metadata": {
  "kernelspec": {
   "display_name": "Python 3",
   "language": "python",
   "name": "python3"
  },
  "language_info": {
   "codemirror_mode": {
    "name": "ipython",
    "version": 3
   },
   "file_extension": ".py",
   "mimetype": "text/x-python",
   "name": "python",
   "nbconvert_exporter": "python",
   "pygments_lexer": "ipython3",
   "version": "3.8.5"
  }
 },
 "nbformat": 4,
 "nbformat_minor": 4
}
