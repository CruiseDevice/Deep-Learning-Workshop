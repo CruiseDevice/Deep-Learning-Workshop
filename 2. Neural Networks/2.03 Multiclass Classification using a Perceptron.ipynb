{
 "cells": [
  {
   "cell_type": "code",
   "execution_count": 1,
   "metadata": {},
   "outputs": [
    {
     "name": "stdout",
     "output_type": "stream",
     "text": [
      "     petallength  petalwidth  sepallength  sepalwidth  species\n",
      "0            5.1         3.5          1.4         0.2        0\n",
      "1            4.9         3.0          1.4         0.2        0\n",
      "2            4.7         3.2          1.3         0.2        0\n",
      "3            4.6         3.1          1.5         0.2        0\n",
      "4            5.0         3.6          1.4         0.2        0\n",
      "..           ...         ...          ...         ...      ...\n",
      "145          6.7         3.0          5.2         2.3        2\n",
      "146          6.3         2.5          5.0         1.9        2\n",
      "147          6.5         3.0          5.2         2.0        2\n",
      "148          6.2         3.4          5.4         2.3        2\n",
      "149          5.9         3.0          5.1         1.8        2\n",
      "\n",
      "[150 rows x 5 columns]\n"
     ]
    }
   ],
   "source": [
    "import pandas as pd\n",
    "data_url = 'https://raw.githubusercontent.com/PacktWorkshops/The-Deep-Learning-Workshop/master/Chapter02/Datasets/iris.csv'\n",
    "df = pd.read_csv(data_url)\n",
    "print(df)"
   ]
  },
  {
   "cell_type": "code",
   "execution_count": 2,
   "metadata": {},
   "outputs": [
    {
     "data": {
      "text/plain": [
       "Text(0.5, 0, 'Sepal Length')"
      ]
     },
     "execution_count": 2,
     "metadata": {},
     "output_type": "execute_result"
    },
    {
     "data": {
      "image/png": "[encoded data removed]",
      "text/plain": [
       "<Figure size 432x288 with 1 Axes>"
      ]
     },
     "metadata": {
      "needs_background": "light"
     },
     "output_type": "display_data"
    }
   ],
   "source": [
    "# visualize the data using a scatter plot\n",
    "import matplotlib.pyplot as plt\n",
    "\n",
    "fig, ax = plt.subplots()\n",
    "\n",
    "plt.scatter(df[df['species'] == 0]['sepallength'],\n",
    "           df[df['species'] == 0]['sepalwidth'], marker='*')\n",
    "plt.scatter(df[df['species'] == 1]['sepallength'],\n",
    "           df[df['species'] == 1]['sepalwidth'], marker='<')\n",
    "plt.scatter(df[df['species'] == 2]['sepallength'],\n",
    "           df[df['species'] == 2]['sepalwidth'], marker='o')\n",
    "\n",
    "ax.set_ylabel('Sepal Width')\n",
    "ax.set_xlabel('Sepal Length')"
   ]
  },
  {
   "cell_type": "code",
   "execution_count": 3,
   "metadata": {},
   "outputs": [],
   "source": [
    "x = df[['petallength', 'petalwidth', 'sepallength', 'sepalwidth']].values\n",
    "y = df['species'].values"
   ]
  },
  {
   "cell_type": "code",
   "execution_count": 4,
   "metadata": {},
   "outputs": [],
   "source": [
    "from pandas import get_dummies\n",
    "y = get_dummies(y)\n",
    "y = y.values"
   ]
  },
  {
   "cell_type": "code",
   "execution_count": 5,
   "metadata": {},
   "outputs": [
    {
     "name": "stdout",
     "output_type": "stream",
     "text": [
      "[[5.1 3.5 1.4 0.2]\n",
      " [4.9 3 1.4 0.2]\n",
      " [4.7 3.2 1.3 0.2]\n",
      " ...\n",
      " [6.5 3 5.2 2]\n",
      " [6.2 3.4 5.4 2.3]\n",
      " [5.9 3 5.1 1.8]]\r\n"
     ]
    }
   ],
   "source": [
    "import tensorflow as tf\n",
    "x = tf.Variable(x, dtype=tf.float32)\n",
    "tf.print(x)"
   ]
  },
  {
   "cell_type": "code",
   "execution_count": 10,
   "metadata": {},
   "outputs": [],
   "source": [
    "Number_of_features = 4\n",
    "Number_of_units = 3 # 3 classes 3 neurons\n",
    "\n",
    "# weights and bias\n",
    "weight = tf.Variable(tf.zeros([Number_of_features, Number_of_units]))\n",
    "bias = tf.Variable(tf.zeros([Number_of_units]))\n",
    "\n",
    "def perceptron(x):\n",
    "    z = tf.add(tf.matmul(x, weight), bias)\n",
    "    output = tf.nn.softmax(z) # activation function\n",
    "    return output\n",
    "\n",
    "optimizer = tf.optimizers.Adam(.01)\n",
    "\n",
    "def train(n):\n",
    "    for i in range(n):\n",
    "        loss = lambda: abs(\n",
    "            tf.reduce_mean(\n",
    "                tf.nn.softmax_cross_entropy_with_logits(\n",
    "                    labels=y, logits=perceptron(x)\n",
    "                )\n",
    "            )\n",
    "        )\n",
    "        optimizer.minimize(loss, [weight, bias])\n"
   ]
  },
  {
   "cell_type": "code",
   "execution_count": 11,
   "metadata": {},
   "outputs": [],
   "source": [
    "train(1000)"
   ]
  },
  {
   "cell_type": "code",
   "execution_count": 13,
   "metadata": {},
   "outputs": [
    {
     "name": "stdout",
     "output_type": "stream",
     "text": [
      "[[0.684334397 0.895659387 -1.01318491]\n",
      " [2.64248252 -1.13441086 -3.20665]\n",
      " [-2.96633792 -0.129384726 3.25726581]\n",
      " [-2.9738369 -3.13502526 3.23134327]] [2.72842193 5.23964834 -3.98216486]\r\n"
     ]
    }
   ],
   "source": [
    "tf.print(weight, bias)"
   ]
  },
  {
   "cell_type": "code",
   "execution_count": 16,
   "metadata": {},
   "outputs": [
    {
     "data": {
      "text/plain": [
       "0.98"
      ]
     },
     "execution_count": 16,
     "metadata": {},
     "output_type": "execute_result"
    }
   ],
   "source": [
    "from sklearn.metrics import accuracy_score\n",
    "from sklearn.metrics import confusion_matrix\n",
    "ypred = perceptron(x)\n",
    "ypred = tf.round(ypred)\n",
    "accuracy_score(y, ypred)"
   ]
  },
  {
   "cell_type": "code",
   "execution_count": null,
   "metadata": {},
   "outputs": [],
   "source": []
  }
 ],
 "metadata": {
  "kernelspec": {
   "display_name": "Python 3",
   "language": "python",
   "name": "python3"
  },
  "language_info": {
   "codemirror_mode": {
    "name": "ipython",
    "version": 3
   },
   "file_extension": ".py",
   "mimetype": "text/x-python",
   "name": "python",
   "nbconvert_exporter": "python",
   "pygments_lexer": "ipython3",
   "version": "3.8.5"
  }
 },
 "nbformat": 4,
 "nbformat_minor": 4
}
