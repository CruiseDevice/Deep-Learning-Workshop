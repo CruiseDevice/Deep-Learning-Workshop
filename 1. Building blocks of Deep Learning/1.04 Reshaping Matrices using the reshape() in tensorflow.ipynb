{
 "cells": [
  {
   "cell_type": "code",
   "execution_count": 1,
   "metadata": {},
   "outputs": [],
   "source": [
    "import tensorflow as tf"
   ]
  },
  {
   "cell_type": "code",
   "execution_count": 2,
   "metadata": {},
   "outputs": [
    {
     "name": "stdout",
     "output_type": "stream",
     "text": [
      "[[1 2 3 4]\n",
      " [5 6 7 8]\n",
      " [9 10 11 12]\n",
      " [13 14 15 16]\n",
      " [17 18 19 20]]\r\n"
     ]
    }
   ],
   "source": [
    "A=tf.Variable([[1,2,3,4], \\\n",
    "               [5,6,7,8], \\\n",
    "               [9,10,11,12], \\\n",
    "               [13,14,15,16], \\\n",
    "               [17,18,19,20]])\n",
    "tf.print(A)"
   ]
  },
  {
   "cell_type": "code",
   "execution_count": 7,
   "metadata": {},
   "outputs": [
    {
     "data": {
      "text/plain": [
       "TensorShape([5, 4])"
      ]
     },
     "execution_count": 7,
     "metadata": {},
     "output_type": "execute_result"
    }
   ],
   "source": [
    "A.shape"
   ]
  },
  {
   "cell_type": "code",
   "execution_count": 8,
   "metadata": {},
   "outputs": [
    {
     "name": "stdout",
     "output_type": "stream",
     "text": [
      "[[[1]\n",
      "  [2]\n",
      "  [3]\n",
      "  [4]]\n",
      "\n",
      " [[5]\n",
      "  [6]\n",
      "  [7]\n",
      "  [8]]\n",
      "\n",
      " [[9]\n",
      "  [10]\n",
      "  [11]\n",
      "  [12]]\n",
      "\n",
      " [[13]\n",
      "  [14]\n",
      "  [15]\n",
      "  [16]]\n",
      "\n",
      " [[17]\n",
      "  [18]\n",
      "  [19]\n",
      "  [20]]]\r\n"
     ]
    }
   ],
   "source": [
    "tf.print(tf.reshape(A, [5, 4, 1]))"
   ]
  },
  {
   "cell_type": "code",
   "execution_count": 10,
   "metadata": {},
   "outputs": [
    {
     "data": {
      "text/plain": [
       "<tf.Tensor: shape=(5, 4, 1), dtype=int32, numpy=\n",
       "array([[[ 1],\n",
       "        [ 2],\n",
       "        [ 3],\n",
       "        [ 4]],\n",
       "\n",
       "       [[ 5],\n",
       "        [ 6],\n",
       "        [ 7],\n",
       "        [ 8]],\n",
       "\n",
       "       [[ 9],\n",
       "        [10],\n",
       "        [11],\n",
       "        [12]],\n",
       "\n",
       "       [[13],\n",
       "        [14],\n",
       "        [15],\n",
       "        [16]],\n",
       "\n",
       "       [[17],\n",
       "        [18],\n",
       "        [19],\n",
       "        [20]]])>"
      ]
     },
     "execution_count": 10,
     "metadata": {},
     "output_type": "execute_result"
    }
   ],
   "source": [
    "A = tf.reshape(A, [5, 4, 1])\n",
    "A"
   ]
  },
  {
   "cell_type": "code",
   "execution_count": null,
   "metadata": {},
   "outputs": [],
   "source": []
  }
 ],
 "metadata": {
  "kernelspec": {
   "display_name": "Python 3",
   "language": "python",
   "name": "python3"
  },
  "language_info": {
   "codemirror_mode": {
    "name": "ipython",
    "version": 3
   },
   "file_extension": ".py",
   "mimetype": "text/x-python",
   "name": "python",
   "nbconvert_exporter": "python",
   "pygments_lexer": "ipython3",
   "version": "3.8.5"
  }
 },
 "nbformat": 4,
 "nbformat_minor": 4
}
